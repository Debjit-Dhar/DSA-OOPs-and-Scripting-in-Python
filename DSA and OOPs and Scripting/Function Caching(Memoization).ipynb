{
 "cells": [
  {
   "cell_type": "code",
   "execution_count": 1,
   "id": "45b2b084-a34e-48a9-a32b-13292627ec15",
   "metadata": {},
   "outputs": [],
   "source": [
    "from functools import lru_cache\n",
    "from time import sleep"
   ]
  },
  {
   "cell_type": "code",
   "execution_count": 35,
   "id": "0c670997-f218-4af9-be81-eb3c59dd3303",
   "metadata": {},
   "outputs": [],
   "source": [
    "@lru_cache(maxsize=4)\n",
    "def f(x):\n",
    "    sleep(1)\n",
    "    return 2*x"
   ]
  },
  {
   "cell_type": "code",
   "execution_count": 36,
   "id": "9b588e6c-2b5d-4b8f-9d4a-1718a890a037",
   "metadata": {},
   "outputs": [],
   "source": [
    "l=[1,2,3,4,5,1,3,4,6,1,4,6]"
   ]
  },
  {
   "cell_type": "markdown",
   "id": "fbdd034e-0908-492d-ae2f-c825c4bf688a",
   "metadata": {},
   "source": [
    "\n",
    "# This will require 7 seconds as there will be 7 cache misses for cache size=4. Similarly, for cache size=3 there will be 12 cache misses, hence 12 seconds required."
   ]
  },
  {
   "cell_type": "code",
   "execution_count": 37,
   "id": "50b271f5-0622-48c5-8ed0-207ac733f211",
   "metadata": {},
   "outputs": [
    {
     "name": "stdout",
     "output_type": "stream",
     "text": [
      "2\n",
      "4\n",
      "6\n",
      "8\n",
      "10\n",
      "2\n",
      "6\n",
      "8\n",
      "12\n",
      "2\n",
      "8\n",
      "12\n"
     ]
    }
   ],
   "source": [
    "for num in l:\n",
    "    print(f(num))"
   ]
  },
  {
   "cell_type": "code",
   "execution_count": null,
   "id": "f0115445-3321-4b7f-a799-40dc6c0401e0",
   "metadata": {},
   "outputs": [],
   "source": []
  }
 ],
 "metadata": {
  "kernelspec": {
   "display_name": "Python 3 (ipykernel)",
   "language": "python",
   "name": "python3"
  },
  "language_info": {
   "codemirror_mode": {
    "name": "ipython",
    "version": 3
   },
   "file_extension": ".py",
   "mimetype": "text/x-python",
   "name": "python",
   "nbconvert_exporter": "python",
   "pygments_lexer": "ipython3",
   "version": "3.9.13"
  }
 },
 "nbformat": 4,
 "nbformat_minor": 5
}
