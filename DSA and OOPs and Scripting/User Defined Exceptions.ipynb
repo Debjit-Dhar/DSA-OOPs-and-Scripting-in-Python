{
 "cells": [
  {
   "cell_type": "code",
   "execution_count": 22,
   "id": "cecd1159-88a3-468c-a2a2-27a27d224ea4",
   "metadata": {},
   "outputs": [],
   "source": [
    "class InvalidAgeException(Exception):\n",
    "    def __init__(self,name):\n",
    "        self.name=name\n",
    "    def __str__(self):\n",
    "        return f'{self.name} has occured'"
   ]
  },
  {
   "cell_type": "code",
   "execution_count": 23,
   "id": "8a7045ce-6f95-46ea-9af6-fd12ed74857b",
   "metadata": {},
   "outputs": [
    {
     "name": "stdin",
     "output_type": "stream",
     "text": [
      "Enter age -3\n"
     ]
    },
    {
     "ename": "InvalidAgeException",
     "evalue": "AgeInvalidException has occured",
     "output_type": "error",
     "traceback": [
      "\u001b[1;31m---------------------------------------------------------------------------\u001b[0m",
      "\u001b[1;31mInvalidAgeException\u001b[0m                       Traceback (most recent call last)",
      "Cell \u001b[1;32mIn[23], line 3\u001b[0m\n\u001b[0;32m      1\u001b[0m age\u001b[38;5;241m=\u001b[39m\u001b[38;5;28meval\u001b[39m(\u001b[38;5;28minput\u001b[39m(\u001b[38;5;124m'\u001b[39m\u001b[38;5;124mEnter age\u001b[39m\u001b[38;5;124m'\u001b[39m))\n\u001b[0;32m      2\u001b[0m \u001b[38;5;28;01mif\u001b[39;00m(age\u001b[38;5;241m<\u001b[39m\u001b[38;5;241m=\u001b[39m\u001b[38;5;241m0\u001b[39m):\n\u001b[1;32m----> 3\u001b[0m     \u001b[38;5;28;01mraise\u001b[39;00m InvalidAgeException(\u001b[38;5;124m'\u001b[39m\u001b[38;5;124mAgeInvalidException\u001b[39m\u001b[38;5;124m'\u001b[39m)\n",
      "\u001b[1;31mInvalidAgeException\u001b[0m: AgeInvalidException has occured"
     ]
    }
   ],
   "source": [
    "age=eval(input('Enter age'))\n",
    "if(age<=0):\n",
    "    raise InvalidAgeException('AgeInvalidException')"
   ]
  },
  {
   "cell_type": "code",
   "execution_count": 6,
   "id": "cf26951f-5c15-45c5-a5a8-49d91fa23f10",
   "metadata": {},
   "outputs": [
    {
     "data": {
      "text/plain": [
       "19"
      ]
     },
     "execution_count": 6,
     "metadata": {},
     "output_type": "execute_result"
    }
   ],
   "source": [
    "age"
   ]
  },
  {
   "cell_type": "code",
   "execution_count": 27,
   "id": "57bc9ec1-41a3-4b46-9f40-6f6bdbaa6519",
   "metadata": {},
   "outputs": [
    {
     "data": {
      "text/plain": [
       "'110'"
      ]
     },
     "execution_count": 27,
     "metadata": {},
     "output_type": "execute_result"
    }
   ],
   "source": [
    "import datetime\n",
    "x=datetime.datetime.now()\n",
    "x.strftime('%j')"
   ]
  },
  {
   "cell_type": "code",
   "execution_count": 31,
   "id": "e2ad0730-6abe-453d-aef7-42b7a7a5f3da",
   "metadata": {},
   "outputs": [
    {
     "data": {
      "text/plain": [
       "15"
      ]
     },
     "execution_count": 31,
     "metadata": {},
     "output_type": "execute_result"
    }
   ],
   "source": [
    "from functools import reduce\n",
    "l=[1,2,3,4,5]\n",
    "sum=reduce(lambda x,y:x+y,l)\n",
    "sum"
   ]
  },
  {
   "cell_type": "code",
   "execution_count": 33,
   "id": "3cd4448c-909f-4a85-baba-1bc44384dfaa",
   "metadata": {},
   "outputs": [
    {
     "ename": "SyntaxError",
     "evalue": "invalid syntax (3373500779.py, line 2)",
     "output_type": "error",
     "traceback": [
      "\u001b[1;36m  Cell \u001b[1;32mIn[33], line 2\u001b[1;36m\u001b[0m\n\u001b[1;33m    match (x):\u001b[0m\n\u001b[1;37m              ^\u001b[0m\n\u001b[1;31mSyntaxError\u001b[0m\u001b[1;31m:\u001b[0m invalid syntax\n"
     ]
    }
   ],
   "source": [
    "x=eval(input('Enter number'))\n",
    "match (x):\n",
    "    case 0:\n",
    "        print('0')\n",
    "    case 1:\n",
    "        print('1')\n",
    "    case _:\n",
    "        print('Non Binary')"
   ]
  },
  {
   "cell_type": "code",
   "execution_count": null,
   "id": "f3e76ab4-3aaf-432d-b612-6a53f16a04a1",
   "metadata": {},
   "outputs": [],
   "source": []
  }
 ],
 "metadata": {
  "kernelspec": {
   "display_name": "Python 3 (ipykernel)",
   "language": "python",
   "name": "python3"
  },
  "language_info": {
   "codemirror_mode": {
    "name": "ipython",
    "version": 3
   },
   "file_extension": ".py",
   "mimetype": "text/x-python",
   "name": "python",
   "nbconvert_exporter": "python",
   "pygments_lexer": "ipython3",
   "version": "3.9.13"
  }
 },
 "nbformat": 4,
 "nbformat_minor": 5
}
