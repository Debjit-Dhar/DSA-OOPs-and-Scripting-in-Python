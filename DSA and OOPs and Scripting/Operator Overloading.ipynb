{
 "cells": [
  {
   "cell_type": "code",
   "execution_count": 11,
   "id": "4f5397e7-e846-485e-b815-aea7260b9c40",
   "metadata": {},
   "outputs": [],
   "source": [
    "class Complex:\n",
    "    real,img=0,0\n",
    "    def __init__(self,real,img):\n",
    "        self.real=real\n",
    "        self.img=img\n",
    "    def __add__(self, c):\n",
    "        return Complex(self.real+c.real,self.img+c.img)\n",
    "    def __str__(self):\n",
    "        if self.img>0:\n",
    "            return f'{self.real} + {self.img}i'\n",
    "        else:\n",
    "            return f'{self.real} - {abs(self.img)}i'            "
   ]
  },
  {
   "cell_type": "code",
   "execution_count": 12,
   "id": "4d04edd5-159c-4ce9-9c97-cce666afbc78",
   "metadata": {},
   "outputs": [
    {
     "name": "stdout",
     "output_type": "stream",
     "text": [
      "6.5 - 2.3000000000000007i\n"
     ]
    }
   ],
   "source": [
    "c1=Complex(2.3,5.6)\n",
    "c2=Complex(4.2,-7.9)\n",
    "c3=c1+c2\n",
    "print(c3)"
   ]
  },
  {
   "cell_type": "code",
   "execution_count": null,
   "id": "745e2518-02f3-44cd-b419-d44b32100a5d",
   "metadata": {},
   "outputs": [],
   "source": []
  }
 ],
 "metadata": {
  "kernelspec": {
   "display_name": "Python 3 (ipykernel)",
   "language": "python",
   "name": "python3"
  },
  "language_info": {
   "codemirror_mode": {
    "name": "ipython",
    "version": 3
   },
   "file_extension": ".py",
   "mimetype": "text/x-python",
   "name": "python",
   "nbconvert_exporter": "python",
   "pygments_lexer": "ipython3",
   "version": "3.9.13"
  }
 },
 "nbformat": 4,
 "nbformat_minor": 5
}
