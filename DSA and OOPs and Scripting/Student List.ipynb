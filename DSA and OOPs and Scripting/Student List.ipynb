{
 "cells": [
  {
   "cell_type": "code",
   "execution_count": 12,
   "id": "fb28f43d-7c95-42bc-a2b3-926ca4967a66",
   "metadata": {},
   "outputs": [],
   "source": [
    "class Student:\n",
    "    def __init__(self,roll,name,cgpa):\n",
    "        self.roll=roll\n",
    "        self.name=name\n",
    "        self.cgpa=cgpa\n",
    "    def __str__(self):\n",
    "        return f'Roll= {self.roll} Name= {self.name} CGPA= {self.cgpa}'\n",
    "    def __eq__(self,s):\n",
    "        return self.roll==s.roll"
   ]
  },
  {
   "cell_type": "code",
   "execution_count": 22,
   "id": "f145974e-3440-4836-bd01-e3cf03db0f6a",
   "metadata": {},
   "outputs": [],
   "source": [
    "class StudentList:\n",
    "    def __init__(self):\n",
    "        self.list=[]\n",
    "    def __str__(self):\n",
    "        result=''\n",
    "        for x in self.list:\n",
    "            result+=str(x)+'\\n'\n",
    "        return result\n",
    "    def add(self,s):\n",
    "        self.list.append(s)\n",
    "    def remove(self,roll):\n",
    "        s=Student(roll,'',0)\n",
    "        for x in self.list:\n",
    "            if x==s:\n",
    "                self.list.remove(x)\n",
    "    def sort(self,fx):\n",
    "        self.list.sort(key=fx)    "
   ]
  },
  {
   "cell_type": "code",
   "execution_count": 23,
   "id": "316ca03a-7420-44e1-8e59-bcb5808e3a26",
   "metadata": {},
   "outputs": [],
   "source": [
    "class StudentSystem:\n",
    "    def __init__(self):\n",
    "        self.system=StudentList()\n",
    "        while(True):\n",
    "            print(\"1. Add student\")\n",
    "            print(\"2. Remove student\")\n",
    "            print(\"3. Display all students\")\n",
    "            print(\"4. Sort students by roll number\")\n",
    "            print(\"5. Sort students by name\")\n",
    "            print(\"6. Sort students by cgpa\")\n",
    "            print(\"Any other. Exit\")\n",
    "            choice = int(input('Enter choice: '))\n",
    "\n",
    "            if choice == 1:\n",
    "                roll = int(input('Enter roll: '))\n",
    "                name = input('Enter name: ')\n",
    "                score = float(input('Enter score: '))\n",
    "                self.system.add(Student(roll, name, score))\n",
    "            elif choice == 2:\n",
    "                roll = int(input('Enter roll to remove: '))\n",
    "                self.system.remove(roll)\n",
    "            elif choice == 3:\n",
    "                print(self.system)\n",
    "            elif choice == 4:\n",
    "                self.system.sort(lambda x:x.roll)\n",
    "            elif choice == 5:\n",
    "                self.system.sort(lambda x:x.name)\n",
    "            elif choice == 6:\n",
    "                self.system.sort(lambda x:x.cgpa)\n",
    "            else:\n",
    "                return"
   ]
  },
  {
   "cell_type": "code",
   "execution_count": 25,
   "id": "5b9341da-a0db-482e-b1cd-e8c2d8dcb341",
   "metadata": {},
   "outputs": [
    {
     "name": "stdout",
     "output_type": "stream",
     "text": [
      "1. Add student\n",
      "2. Remove student\n",
      "3. Display all students\n",
      "4. Sort students by roll number\n",
      "5. Sort students by name\n",
      "6. Sort students by cgpa\n",
      "Any other. Exit\n"
     ]
    },
    {
     "name": "stdin",
     "output_type": "stream",
     "text": [
      "Enter choice:  1\n",
      "Enter roll:  4\n",
      "Enter name:  abba\n",
      "Enter score:  90\n"
     ]
    },
    {
     "name": "stdout",
     "output_type": "stream",
     "text": [
      "1. Add student\n",
      "2. Remove student\n",
      "3. Display all students\n",
      "4. Sort students by roll number\n",
      "5. Sort students by name\n",
      "6. Sort students by cgpa\n",
      "Any other. Exit\n"
     ]
    },
    {
     "name": "stdin",
     "output_type": "stream",
     "text": [
      "Enter choice:  1\n",
      "Enter roll:  1\n",
      "Enter name:  aaa\n",
      "Enter score:  10\n"
     ]
    },
    {
     "name": "stdout",
     "output_type": "stream",
     "text": [
      "1. Add student\n",
      "2. Remove student\n",
      "3. Display all students\n",
      "4. Sort students by roll number\n",
      "5. Sort students by name\n",
      "6. Sort students by cgpa\n",
      "Any other. Exit\n"
     ]
    },
    {
     "name": "stdin",
     "output_type": "stream",
     "text": [
      "Enter choice:  1\n",
      "Enter roll:  12\n",
      "Enter name:  sauron\n",
      "Enter score:  100\n"
     ]
    },
    {
     "name": "stdout",
     "output_type": "stream",
     "text": [
      "1. Add student\n",
      "2. Remove student\n",
      "3. Display all students\n",
      "4. Sort students by roll number\n",
      "5. Sort students by name\n",
      "6. Sort students by cgpa\n",
      "Any other. Exit\n"
     ]
    },
    {
     "name": "stdin",
     "output_type": "stream",
     "text": [
      "Enter choice:  3\n"
     ]
    },
    {
     "name": "stdout",
     "output_type": "stream",
     "text": [
      "Roll= 4 Name= abba CGPA= 90.0\n",
      "Roll= 1 Name= aaa CGPA= 10.0\n",
      "Roll= 12 Name= sauron CGPA= 100.0\n",
      "\n",
      "1. Add student\n",
      "2. Remove student\n",
      "3. Display all students\n",
      "4. Sort students by roll number\n",
      "5. Sort students by name\n",
      "6. Sort students by cgpa\n",
      "Any other. Exit\n"
     ]
    },
    {
     "name": "stdin",
     "output_type": "stream",
     "text": [
      "Enter choice:  4\n"
     ]
    },
    {
     "name": "stdout",
     "output_type": "stream",
     "text": [
      "1. Add student\n",
      "2. Remove student\n",
      "3. Display all students\n",
      "4. Sort students by roll number\n",
      "5. Sort students by name\n",
      "6. Sort students by cgpa\n",
      "Any other. Exit\n"
     ]
    },
    {
     "name": "stdin",
     "output_type": "stream",
     "text": [
      "Enter choice:  3\n"
     ]
    },
    {
     "name": "stdout",
     "output_type": "stream",
     "text": [
      "Roll= 1 Name= aaa CGPA= 10.0\n",
      "Roll= 4 Name= abba CGPA= 90.0\n",
      "Roll= 12 Name= sauron CGPA= 100.0\n",
      "\n",
      "1. Add student\n",
      "2. Remove student\n",
      "3. Display all students\n",
      "4. Sort students by roll number\n",
      "5. Sort students by name\n",
      "6. Sort students by cgpa\n",
      "Any other. Exit\n"
     ]
    },
    {
     "name": "stdin",
     "output_type": "stream",
     "text": [
      "Enter choice:  2\n",
      "Enter roll to remove:  90\n"
     ]
    },
    {
     "name": "stdout",
     "output_type": "stream",
     "text": [
      "1. Add student\n",
      "2. Remove student\n",
      "3. Display all students\n",
      "4. Sort students by roll number\n",
      "5. Sort students by name\n",
      "6. Sort students by cgpa\n",
      "Any other. Exit\n"
     ]
    },
    {
     "name": "stdin",
     "output_type": "stream",
     "text": [
      "Enter choice:  3\n"
     ]
    },
    {
     "name": "stdout",
     "output_type": "stream",
     "text": [
      "Roll= 1 Name= aaa CGPA= 10.0\n",
      "Roll= 4 Name= abba CGPA= 90.0\n",
      "Roll= 12 Name= sauron CGPA= 100.0\n",
      "\n",
      "1. Add student\n",
      "2. Remove student\n",
      "3. Display all students\n",
      "4. Sort students by roll number\n",
      "5. Sort students by name\n",
      "6. Sort students by cgpa\n",
      "Any other. Exit\n"
     ]
    },
    {
     "name": "stdin",
     "output_type": "stream",
     "text": [
      "Enter choice:  2\n",
      "Enter roll to remove:  1\n"
     ]
    },
    {
     "name": "stdout",
     "output_type": "stream",
     "text": [
      "1. Add student\n",
      "2. Remove student\n",
      "3. Display all students\n",
      "4. Sort students by roll number\n",
      "5. Sort students by name\n",
      "6. Sort students by cgpa\n",
      "Any other. Exit\n"
     ]
    },
    {
     "name": "stdin",
     "output_type": "stream",
     "text": [
      "Enter choice:  3\n"
     ]
    },
    {
     "name": "stdout",
     "output_type": "stream",
     "text": [
      "Roll= 4 Name= abba CGPA= 90.0\n",
      "Roll= 12 Name= sauron CGPA= 100.0\n",
      "\n",
      "1. Add student\n",
      "2. Remove student\n",
      "3. Display all students\n",
      "4. Sort students by roll number\n",
      "5. Sort students by name\n",
      "6. Sort students by cgpa\n",
      "Any other. Exit\n"
     ]
    },
    {
     "name": "stdin",
     "output_type": "stream",
     "text": [
      "Enter choice:  5\n"
     ]
    },
    {
     "name": "stdout",
     "output_type": "stream",
     "text": [
      "1. Add student\n",
      "2. Remove student\n",
      "3. Display all students\n",
      "4. Sort students by roll number\n",
      "5. Sort students by name\n",
      "6. Sort students by cgpa\n",
      "Any other. Exit\n"
     ]
    },
    {
     "name": "stdin",
     "output_type": "stream",
     "text": [
      "Enter choice:  3\n"
     ]
    },
    {
     "name": "stdout",
     "output_type": "stream",
     "text": [
      "Roll= 4 Name= abba CGPA= 90.0\n",
      "Roll= 12 Name= sauron CGPA= 100.0\n",
      "\n",
      "1. Add student\n",
      "2. Remove student\n",
      "3. Display all students\n",
      "4. Sort students by roll number\n",
      "5. Sort students by name\n",
      "6. Sort students by cgpa\n",
      "Any other. Exit\n"
     ]
    },
    {
     "name": "stdin",
     "output_type": "stream",
     "text": [
      "Enter choice:  6\n"
     ]
    },
    {
     "name": "stdout",
     "output_type": "stream",
     "text": [
      "1. Add student\n",
      "2. Remove student\n",
      "3. Display all students\n",
      "4. Sort students by roll number\n",
      "5. Sort students by name\n",
      "6. Sort students by cgpa\n",
      "Any other. Exit\n"
     ]
    },
    {
     "name": "stdin",
     "output_type": "stream",
     "text": [
      "Enter choice:  3\n"
     ]
    },
    {
     "name": "stdout",
     "output_type": "stream",
     "text": [
      "Roll= 4 Name= abba CGPA= 90.0\n",
      "Roll= 12 Name= sauron CGPA= 100.0\n",
      "\n",
      "1. Add student\n",
      "2. Remove student\n",
      "3. Display all students\n",
      "4. Sort students by roll number\n",
      "5. Sort students by name\n",
      "6. Sort students by cgpa\n",
      "Any other. Exit\n"
     ]
    },
    {
     "name": "stdin",
     "output_type": "stream",
     "text": [
      "Enter choice:  1\n",
      "Enter roll:  17\n",
      "Enter name:  bilbo\n",
      "Enter score:  111\n"
     ]
    },
    {
     "name": "stdout",
     "output_type": "stream",
     "text": [
      "1. Add student\n",
      "2. Remove student\n",
      "3. Display all students\n",
      "4. Sort students by roll number\n",
      "5. Sort students by name\n",
      "6. Sort students by cgpa\n",
      "Any other. Exit\n"
     ]
    },
    {
     "name": "stdin",
     "output_type": "stream",
     "text": [
      "Enter choice:  3\n"
     ]
    },
    {
     "name": "stdout",
     "output_type": "stream",
     "text": [
      "Roll= 4 Name= abba CGPA= 90.0\n",
      "Roll= 12 Name= sauron CGPA= 100.0\n",
      "Roll= 17 Name= bilbo CGPA= 111.0\n",
      "\n",
      "1. Add student\n",
      "2. Remove student\n",
      "3. Display all students\n",
      "4. Sort students by roll number\n",
      "5. Sort students by name\n",
      "6. Sort students by cgpa\n",
      "Any other. Exit\n"
     ]
    },
    {
     "name": "stdin",
     "output_type": "stream",
     "text": [
      "Enter choice:  5\n"
     ]
    },
    {
     "name": "stdout",
     "output_type": "stream",
     "text": [
      "1. Add student\n",
      "2. Remove student\n",
      "3. Display all students\n",
      "4. Sort students by roll number\n",
      "5. Sort students by name\n",
      "6. Sort students by cgpa\n",
      "Any other. Exit\n"
     ]
    },
    {
     "name": "stdin",
     "output_type": "stream",
     "text": [
      "Enter choice:  3\n"
     ]
    },
    {
     "name": "stdout",
     "output_type": "stream",
     "text": [
      "Roll= 4 Name= abba CGPA= 90.0\n",
      "Roll= 17 Name= bilbo CGPA= 111.0\n",
      "Roll= 12 Name= sauron CGPA= 100.0\n",
      "\n",
      "1. Add student\n",
      "2. Remove student\n",
      "3. Display all students\n",
      "4. Sort students by roll number\n",
      "5. Sort students by name\n",
      "6. Sort students by cgpa\n",
      "Any other. Exit\n"
     ]
    },
    {
     "name": "stdin",
     "output_type": "stream",
     "text": [
      "Enter choice:  0\n"
     ]
    }
   ],
   "source": [
    "if __name__ == \"__main__\":\n",
    "    sys = StudentSystem()\n",
    "    "
   ]
  },
  {
   "cell_type": "code",
   "execution_count": null,
   "id": "db3f52d1-e67e-4456-9d04-15be35ec6713",
   "metadata": {},
   "outputs": [],
   "source": []
  }
 ],
 "metadata": {
  "kernelspec": {
   "display_name": "Python 3 (ipykernel)",
   "language": "python",
   "name": "python3"
  },
  "language_info": {
   "codemirror_mode": {
    "name": "ipython",
    "version": 3
   },
   "file_extension": ".py",
   "mimetype": "text/x-python",
   "name": "python",
   "nbconvert_exporter": "python",
   "pygments_lexer": "ipython3",
   "version": "3.9.13"
  }
 },
 "nbformat": 4,
 "nbformat_minor": 5
}
