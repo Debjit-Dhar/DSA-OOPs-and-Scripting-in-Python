{
 "cells": [
  {
   "cell_type": "code",
   "execution_count": 17,
   "id": "8bf5a389-873e-415c-8cd7-29d1a60d6a34",
   "metadata": {},
   "outputs": [],
   "source": [
    "import random"
   ]
  },
  {
   "cell_type": "code",
   "execution_count": 20,
   "id": "05f8d066-29bc-477a-be98-fc641d590a66",
   "metadata": {},
   "outputs": [
    {
     "name": "stdin",
     "output_type": "stream",
     "text": [
      "Enter no. of samples 10000000\n"
     ]
    }
   ],
   "source": [
    "n=int(input('Enter no. of samples'))\n",
    "circ=0"
   ]
  },
  {
   "cell_type": "code",
   "execution_count": 21,
   "id": "e59c50a8-5a8f-4e85-aed8-2d0dd5674d8a",
   "metadata": {},
   "outputs": [
    {
     "name": "stdout",
     "output_type": "stream",
     "text": [
      "0.7853032\n"
     ]
    }
   ],
   "source": [
    "for i in range(1,n+1):\n",
    "    x=random.uniform(-1,1)\n",
    "    y=random.uniform(-1,1)\n",
    "    if(x*x+y*y<=1):\n",
    "        circ+=1\n",
    "print(circ/n)"
   ]
  },
  {
   "cell_type": "code",
   "execution_count": 23,
   "id": "e7f79a2c-e1ce-4c53-b609-91f844b7a554",
   "metadata": {},
   "outputs": [
    {
     "name": "stdout",
     "output_type": "stream",
     "text": [
      "0.7853981633974483\n"
     ]
    }
   ],
   "source": [
    "import math\n",
    "print(math.pi/4)"
   ]
  },
  {
   "cell_type": "code",
   "execution_count": null,
   "id": "ceecfd27-b93f-4d7e-b92a-988a14cf30b6",
   "metadata": {},
   "outputs": [],
   "source": []
  }
 ],
 "metadata": {
  "kernelspec": {
   "display_name": "Python 3 (ipykernel)",
   "language": "python",
   "name": "python3"
  },
  "language_info": {
   "codemirror_mode": {
    "name": "ipython",
    "version": 3
   },
   "file_extension": ".py",
   "mimetype": "text/x-python",
   "name": "python",
   "nbconvert_exporter": "python",
   "pygments_lexer": "ipython3",
   "version": "3.9.13"
  }
 },
 "nbformat": 4,
 "nbformat_minor": 5
}
