{
 "cells": [
  {
   "cell_type": "code",
   "execution_count": 31,
   "id": "10bb2fee-b015-4375-8562-fb2cb88287a3",
   "metadata": {},
   "outputs": [],
   "source": [
    "import pickle"
   ]
  },
  {
   "cell_type": "code",
   "execution_count": 32,
   "id": "3bdfb827-ef66-443b-85b8-226e99578543",
   "metadata": {},
   "outputs": [],
   "source": [
    "class Student:\n",
    "    def __init__(self,roll,name,score):\n",
    "        self.roll=roll\n",
    "        self.name=name\n",
    "        self.score=score\n",
    "        self.deleted=False\n",
    "    def __str__(self):\n",
    "        return f'Roll= {self.roll}, Name= {self.name}, Score= {self.score}'\n",
    "    "
   ]
  },
  {
   "cell_type": "code",
   "execution_count": 36,
   "id": "e1e538a6-d957-44e9-9b6e-251d4e99e93f",
   "metadata": {},
   "outputs": [],
   "source": [
    "class StudentFile:\n",
    "    def __init__(self):\n",
    "        pass\n",
    "    def write(self,s):\n",
    "        with open('StudentFile.dat','ab') as f:\n",
    "            pickle.dump(s,f)\n",
    "    def read(self):\n",
    "        f=open('StudentFile.dat','rb')\n",
    "        try:\n",
    "            while(x:=pickle.load(f)):\n",
    "                if(x.roll!=-1):\n",
    "                    print(x)\n",
    "        except EOFError:\n",
    "            pass\n",
    "        except FileNotFoundError:\n",
    "            print('File DNE')\n",
    "        f.close()\n",
    "    def ldelete(self, roll):\n",
    "       pass"
   ]
  },
  {
   "cell_type": "code",
   "execution_count": 37,
   "id": "7eb11b36-2964-4c48-a805-bce6556b8adf",
   "metadata": {},
   "outputs": [],
   "source": [
    "class StudentSystem:\n",
    "    def __init__(self):\n",
    "        self.stf=StudentFile()\n",
    "        while(True):\n",
    "            choice=eval(input('Enter choice'))\n",
    "            if(choice==1):\n",
    "                roll=eval(input('Enter roll'))\n",
    "                name=input('Enter name')\n",
    "                score=eval(input('Enter score'))\n",
    "                self.stf.write(Student(roll,name,score))\n",
    "            elif choice==2:\n",
    "                self.stf.read()\n",
    "            elif choice==3:\n",
    "                roll=eval(input('Enter roll of student to be logically deleted'))\n",
    "                self.stf.ldelete(roll)\n",
    "            else:\n",
    "                return"
   ]
  },
  {
   "cell_type": "code",
   "execution_count": 38,
   "id": "1dc6a8ef-6cf7-43a7-ac3b-cd006e34d078",
   "metadata": {},
   "outputs": [
    {
     "name": "stdin",
     "output_type": "stream",
     "text": [
      "Enter choice 2\n"
     ]
    },
    {
     "name": "stdout",
     "output_type": "stream",
     "text": [
      "Roll= 1, Name= ghsd, Score= 89\n",
      "Roll= 5, Name= kjdhf, Score= 67\n",
      "Roll= 6, Name= dfhsh, Score= 34\n"
     ]
    },
    {
     "name": "stdin",
     "output_type": "stream",
     "text": [
      "Enter choice 1\n",
      "Enter roll 10\n",
      "Enter name jdgjhs\n",
      "Enter score 100\n",
      "Enter choice 2\n"
     ]
    },
    {
     "name": "stdout",
     "output_type": "stream",
     "text": [
      "Roll= 1, Name= ghsd, Score= 89\n",
      "Roll= 5, Name= kjdhf, Score= 67\n",
      "Roll= 6, Name= dfhsh, Score= 34\n",
      "Roll= 10, Name= jdgjhs, Score= 100\n"
     ]
    },
    {
     "name": "stdin",
     "output_type": "stream",
     "text": [
      "Enter choice 9\n"
     ]
    }
   ],
   "source": [
    "if __name__=='__main__':\n",
    "    sts=StudentSystem()    "
   ]
  },
  {
   "cell_type": "code",
   "execution_count": null,
   "id": "9ab1f060-0f95-4433-9727-a732aa0d825c",
   "metadata": {},
   "outputs": [],
   "source": []
  }
 ],
 "metadata": {
  "kernelspec": {
   "display_name": "Python 3 (ipykernel)",
   "language": "python",
   "name": "python3"
  },
  "language_info": {
   "codemirror_mode": {
    "name": "ipython",
    "version": 3
   },
   "file_extension": ".py",
   "mimetype": "text/x-python",
   "name": "python",
   "nbconvert_exporter": "python",
   "pygments_lexer": "ipython3",
   "version": "3.9.13"
  }
 },
 "nbformat": 4,
 "nbformat_minor": 5
}
