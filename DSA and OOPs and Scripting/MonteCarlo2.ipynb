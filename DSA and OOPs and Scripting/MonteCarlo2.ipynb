{
 "cells": [
  {
   "cell_type": "markdown",
   "id": "8f9031e9-3276-45bc-9472-85a38d0aa155",
   "metadata": {},
   "source": [
    "\n",
    "# The monkey is climbing a staircase of 12 stairs. It can climb only either 1 stair or 2 stairs at a time. Find the total number of permutations(ways) it can climb the 12 stairs."
   ]
  },
  {
   "cell_type": "code",
   "execution_count": 127,
   "id": "3cb3cb46-a4c7-4054-9ec6-69819f14e687",
   "metadata": {},
   "outputs": [],
   "source": [
    "import math\n",
    "import random\n",
    "import numpy as np"
   ]
  },
  {
   "cell_type": "code",
   "execution_count": 128,
   "id": "ad306583-29a8-4d36-9f17-9a33fa059932",
   "metadata": {},
   "outputs": [],
   "source": [
    "stairs=12"
   ]
  },
  {
   "cell_type": "code",
   "execution_count": 129,
   "id": "9318403e-2aed-4d24-a1c7-41de93a4265a",
   "metadata": {},
   "outputs": [],
   "source": [
    "tests=100000"
   ]
  },
  {
   "cell_type": "code",
   "execution_count": 130,
   "id": "75e13dbb-2b5b-42b1-bec4-29951186d933",
   "metadata": {},
   "outputs": [],
   "source": [
    "arr = [[0 for i in range(stairs)] for j in range(tests)]\n"
   ]
  },
  {
   "cell_type": "code",
   "execution_count": 131,
   "id": "8f5c744a-9d81-4e2f-808d-b2489c58f8d4",
   "metadata": {},
   "outputs": [],
   "source": [
    "for i in range(tests):\n",
    "    climbed,j=0,0\n",
    "    while(climbed<stairs):\n",
    "        step=random.randint(1,2)\n",
    "        climbed+=step\n",
    "        arr[i][j]=step\n",
    "        j+=1\n"
   ]
  },
  {
   "cell_type": "code",
   "execution_count": 132,
   "id": "3307e846-65e1-4a44-8c2e-2aa65f79b5c0",
   "metadata": {},
   "outputs": [
    {
     "name": "stdout",
     "output_type": "stream",
     "text": [
      "233\n"
     ]
    }
   ],
   "source": [
    "arr=np.array(arr)\n",
    "unique_rows, indices, counts = np.unique(arr, axis=0, return_counts=True, return_index=True)\n",
    "req_rows = np.sum(unique_rows, axis=1) == stairs\n",
    "count = np.count_nonzero(req_rows)\n",
    "print(count)"
   ]
  },
  {
   "cell_type": "code",
   "execution_count": null,
   "id": "943e1891-e7ad-4b25-940d-bdc69d4bcb95",
   "metadata": {},
   "outputs": [],
   "source": []
  }
 ],
 "metadata": {
  "kernelspec": {
   "display_name": "Python 3 (ipykernel)",
   "language": "python",
   "name": "python3"
  },
  "language_info": {
   "codemirror_mode": {
    "name": "ipython",
    "version": 3
   },
   "file_extension": ".py",
   "mimetype": "text/x-python",
   "name": "python",
   "nbconvert_exporter": "python",
   "pygments_lexer": "ipython3",
   "version": "3.9.13"
  }
 },
 "nbformat": 4,
 "nbformat_minor": 5
}
