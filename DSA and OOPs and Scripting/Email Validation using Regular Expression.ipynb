{
 "cells": [
  {
   "cell_type": "code",
   "execution_count": 89,
   "id": "9c3330f4-6466-498f-97c0-cdc18c7cff61",
   "metadata": {},
   "outputs": [],
   "source": [
    "import re"
   ]
  },
  {
   "cell_type": "code",
   "execution_count": 90,
   "id": "3954e260-61fe-49df-88f0-57f78d055b6d",
   "metadata": {},
   "outputs": [
    {
     "name": "stdout",
     "output_type": "stream",
     "text": [
      "Invalid Email\n"
     ]
    }
   ],
   "source": [
    "pattern1='^[A-Za-z0-9._@]+$'#no characters other than alphaneumaric _.@ present\n",
    "pattern2='.@(.)*\\..'#atleast one character before @ atleast one charcter after it followed by . followed by atleast one character\n",
    "\n",
    "email='trishu$dola@gmail.com'\n",
    "\n",
    "if(re.search(pattern1,email) and re.search(pattern2,email)):\n",
    "    print('Valid Email')\n",
    "else: \n",
    "    print('Invalid Email')\n"
   ]
  },
  {
   "cell_type": "code",
   "execution_count": null,
   "id": "e30149d1-6d14-4856-ade0-dd596b4cbe07",
   "metadata": {},
   "outputs": [],
   "source": []
  }
 ],
 "metadata": {
  "kernelspec": {
   "display_name": "Python 3 (ipykernel)",
   "language": "python",
   "name": "python3"
  },
  "language_info": {
   "codemirror_mode": {
    "name": "ipython",
    "version": 3
   },
   "file_extension": ".py",
   "mimetype": "text/x-python",
   "name": "python",
   "nbconvert_exporter": "python",
   "pygments_lexer": "ipython3",
   "version": "3.9.13"
  }
 },
 "nbformat": 4,
 "nbformat_minor": 5
}
