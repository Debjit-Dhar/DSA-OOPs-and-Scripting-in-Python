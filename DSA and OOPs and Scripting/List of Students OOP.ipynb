{
 "cells": [
  {
   "cell_type": "code",
   "execution_count": 49,
   "id": "95fee7cb-e549-4ea8-a92d-1d749d7a459d",
   "metadata": {},
   "outputs": [
    {
     "data": {
      "text/plain": [
       "'3.9.13 (tags/v3.9.13:6de2ca5, May 17 2022, 16:36:42) [MSC v.1929 64 bit (AMD64)]'"
      ]
     },
     "execution_count": 49,
     "metadata": {},
     "output_type": "execute_result"
    }
   ],
   "source": [
    "import sys\n",
    "sys.version"
   ]
  },
  {
   "cell_type": "code",
   "execution_count": 50,
   "id": "672d42e2-8a75-465e-9fec-c571c397438b",
   "metadata": {},
   "outputs": [],
   "source": [
    "class Student:\n",
    "    roll,name,score=0,'',0\n",
    "    def __init__(self,roll,name,score):\n",
    "        self.roll=roll\n",
    "        self.name=name\n",
    "        self.score=score\n",
    "    def __str__(self):\n",
    "        return f'Roll= {self.roll} Name= {self.name} Score= {self.score}'\n",
    "    def __eq__(self,x):\n",
    "        return self.roll==x.roll\n",
    "    def get_roll():\n",
    "        return roll"
   ]
  },
  {
   "cell_type": "code",
   "execution_count": 51,
   "id": "58c37083-c64f-4d90-8271-c2d9ee947a9a",
   "metadata": {},
   "outputs": [],
   "source": [
    "class StudentList:\n",
    "    list=[]\n",
    "    def __init__(self):\n",
    "        pass\n",
    "    def add(s):\n",
    "        l.append(s)\n",
    "    def remove(roll):\n",
    "        s=Student(roll,'',0)\n",
    "        l.remove(s)\n",
    "    def __str__(self):\n",
    "        for x in l:\n",
    "            print(x)\n",
    "    def __sort__(fx):\n",
    "        l.sort(key=fx)"
   ]
  },
  {
   "cell_type": "code",
   "execution_count": 52,
   "id": "b977dbc6-fb23-4a73-b2d7-7f09c5265ed5",
   "metadata": {},
   "outputs": [],
   "source": [
    " class System:\n",
    "     system=StudentList()\n",
    "     def __init__(self):\n",
    "         \n",
    "         while(True):\n",
    "             ch=eval(input('Enter choice'))\n",
    "             if(ch==1):\n",
    "                 roll=eval(input('Enter roll'))\n",
    "                 name=eval(input('Enter name'))\n",
    "                 score=eval(input('Enter score'))\n",
    "                 system.add(Student(roll,name,score))\n",
    "             elif(ch==2):\n",
    "                  roll=eval(input('Enter roll'))\n",
    "                  system.remove(roll)\n",
    "             elif(ch==3):\n",
    "                  print(system)\n",
    "             elif(ch==4):\n",
    "                  system.sort(system.get_roll())\n",
    "             else:\n",
    "                 return\n",
    "             "
   ]
  },
  {
   "cell_type": "code",
   "execution_count": null,
   "id": "9119a318-512f-4188-8e62-446d699c28c3",
   "metadata": {},
   "outputs": [],
   "source": [
    "sys=System()"
   ]
  }
 ],
 "metadata": {
  "kernelspec": {
   "display_name": "Python 3 (ipykernel)",
   "language": "python",
   "name": "python3"
  },
  "language_info": {
   "codemirror_mode": {
    "name": "ipython",
    "version": 3
   },
   "file_extension": ".py",
   "mimetype": "text/x-python",
   "name": "python",
   "nbconvert_exporter": "python",
   "pygments_lexer": "ipython3",
   "version": "3.9.13"
  }
 },
 "nbformat": 4,
 "nbformat_minor": 5
}
