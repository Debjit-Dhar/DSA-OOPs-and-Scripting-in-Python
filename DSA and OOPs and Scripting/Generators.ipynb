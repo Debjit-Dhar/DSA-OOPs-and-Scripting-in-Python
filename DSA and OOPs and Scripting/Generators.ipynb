{
 "cells": [
  {
   "cell_type": "code",
   "execution_count": 36,
   "id": "ef4fe6bd-2d55-407c-8cb4-a483c9522ec9",
   "metadata": {},
   "outputs": [],
   "source": [
    "def fib_gen(a,b,n):\n",
    "    if(n==0):\n",
    "        yield a\n",
    "    else:\n",
    "        yield a\n",
    "        yield from fib_gen(b,a+b,n-1)"
   ]
  },
  {
   "cell_type": "code",
   "execution_count": 40,
   "id": "af22c974-5377-401c-b806-209c85044ca2",
   "metadata": {},
   "outputs": [
    {
     "name": "stdout",
     "output_type": "stream",
     "text": [
      "0\n",
      "1\n",
      "1\n",
      "2\n"
     ]
    }
   ],
   "source": [
    "'''fib=fib_gen(0,1,6)\n",
    "for num in fib:\n",
    "    print(num)'''\n",
    "fib=fib_gen(0,1,6)\n",
    "print(next(fib))\n",
    "print(next(fib))\n",
    "print(next(fib))\n",
    "print(next(fib))"
   ]
  },
  {
   "cell_type": "code",
   "execution_count": null,
   "id": "57b7d110-27d4-4852-831f-e6a81ee0caf2",
   "metadata": {},
   "outputs": [],
   "source": []
  }
 ],
 "metadata": {
  "kernelspec": {
   "display_name": "Python 3 (ipykernel)",
   "language": "python",
   "name": "python3"
  },
  "language_info": {
   "codemirror_mode": {
    "name": "ipython",
    "version": 3
   },
   "file_extension": ".py",
   "mimetype": "text/x-python",
   "name": "python",
   "nbconvert_exporter": "python",
   "pygments_lexer": "ipython3",
   "version": "3.9.13"
  }
 },
 "nbformat": 4,
 "nbformat_minor": 5
}
